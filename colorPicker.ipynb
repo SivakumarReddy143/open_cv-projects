{
 "cells": [
  {
   "cell_type": "code",
   "execution_count": 2,
   "metadata": {},
   "outputs": [],
   "source": [
    "import numpy as np\n",
    "import cv2"
   ]
  },
  {
   "cell_type": "code",
   "execution_count": 3,
   "metadata": {},
   "outputs": [],
   "source": [
    "def func(x):\n",
    "    pass"
   ]
  },
  {
   "cell_type": "code",
   "execution_count": 4,
   "metadata": {},
   "outputs": [],
   "source": [
    "img=np.zeros((500,500,3),np.uint8)*255\n",
    "cv2.namedWindow(\"color\")\n",
    "cv2.createTrackbar(\"R\",\"color\",0,255,func)\n",
    "cv2.createTrackbar(\"G\",\"color\",0,255,func)\n",
    "cv2.createTrackbar(\"B\",\"color\",0,255,func)\n",
    "while True:\n",
    "    cv2.imshow(\"color\",img)\n",
    "    if cv2.waitKey(1) & 0xff==ord(\"p\"):\n",
    "        break\n",
    "    r=cv2.getTrackbarPos(\"R\",\"color\")\n",
    "    g=cv2.getTrackbarPos(\"G\",\"color\")\n",
    "    b=cv2.getTrackbarPos(\"B\",\"color\")\n",
    "    img[:]=[b,g,r]\n",
    "cv2.destroyAllWindows()"
   ]
  },
  {
   "cell_type": "code",
   "execution_count": null,
   "metadata": {},
   "outputs": [],
   "source": []
  }
 ],
 "metadata": {
  "kernelspec": {
   "display_name": "Python 3",
   "language": "python",
   "name": "python3"
  },
  "language_info": {
   "codemirror_mode": {
    "name": "ipython",
    "version": 3
   },
   "file_extension": ".py",
   "mimetype": "text/x-python",
   "name": "python",
   "nbconvert_exporter": "python",
   "pygments_lexer": "ipython3",
   "version": "3.12.1"
  }
 },
 "nbformat": 4,
 "nbformat_minor": 2
}
